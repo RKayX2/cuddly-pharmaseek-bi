{
 "cells": [
  {
   "cell_type": "code",
   "execution_count": 1,
   "metadata": {},
   "outputs": [],
   "source": [
    "# Scraping for Pi_ERP-BI"
   ]
  },
  {
   "cell_type": "code",
   "execution_count": 1,
   "metadata": {},
   "outputs": [],
   "source": [
    "# Scraping prescription drugs' names\n",
    "import urllib\n",
    "import json\n",
    "from bs4 import BeautifulSoup\n",
    "import csv\n",
    "import requests\n",
    "import string\n",
    "alpha = string.ascii_lowercase[:27]\n",
    "drugs_result = []\n",
    "for a in alpha:\n",
    "    url = \"https://www.everydayhealth.com/drugs/\" + a\n",
    "    page = requests.get(url).text\n",
    "    soup = BeautifulSoup(page, 'html.parser')\n",
    "    drugs = soup.find_all('div', attrs={'class': 'drug-class'})\n",
    "    for drug in drugs:\n",
    "        drugs_result.append({\n",
    "            \"name\": drug.find('a').getText(),\n",
    "            \"link\": drug.find('a').attrs.get(\"href\")[7:]\n",
    "        })"
   ]
  },
  {
   "cell_type": "code",
   "execution_count": 2,
   "metadata": {},
   "outputs": [],
   "source": [
    "# Preparing filtered result set\n",
    "drugs_final = []\n",
    "for drug in drugs_result:\n",
    "    if not \"class\" in drug.get(\"link\"):\n",
    "        drugs_final.append(drug)"
   ]
  },
  {
   "cell_type": "code",
   "execution_count": 5,
   "metadata": {},
   "outputs": [],
   "source": [
    "# Scraping drugs interactions\n",
    "for drug in drugs_final:\n",
    "    r_interactions = []\n",
    "    r_code = requests.get(\"https://rxnav.nlm.nih.gov/REST/rxcui?name=\" + drug['link'])\n",
    "    check_code = str(r_code.content)[str(r_code.content).find(\"rxnormId\")+9:str(r_code.content).find(\"</rxnormId\")]\n",
    "    if represents_int(check_code):\n",
    "        req_interactions_response = requests.get(\"https://rxnav.nlm.nih.gov/REST/interaction/interaction.json?rxcui=\" + check_code)\n",
    "        data = req_interactions_response.json()\n",
    "        try:\n",
    "            r_interactions = list(set([\n",
    "                x['interactionConcept'][1]['minConceptItem']['name'].capitalize()\n",
    "                for L in data[\"interactionTypeGroup\"][0]['interactionType']\n",
    "                for x in L['interactionPair']]\n",
    "            ))\n",
    "        except:\n",
    "            r_interactions = []\n",
    "    drug['interactions'] = r_interactions"
   ]
  },
  {
   "cell_type": "code",
   "execution_count": null,
   "metadata": {},
   "outputs": [],
   "source": [
    "# Preparing label and constraints\n",
    "from neo4jrestclient.client import GraphDatabase\n",
    "db = GraphDatabase(\"http://localhost:7474\", username=\"neo4j\", password=\"veryveryhardpassword1234\")\n",
    "query = '''CREATE (d:Drug {name: \"Initiated_label\"})'''\n",
    "db.query(query)\n",
    "query = '''CREATE CONSTRAINT ON (d:Drug) ASSERT d.name IS UNIQUE'''\n",
    "db.query(query)"
   ]
  },
  {
   "cell_type": "code",
   "execution_count": 8,
   "metadata": {},
   "outputs": [],
   "source": [
    "# Database seeding\n",
    "for drug in drugs_final:\n",
    "    for d in drug['interactions']:\n",
    "        db.query('''MERGE (d_init:Drug {name: \"''' + drug['name'] + '''\"})\n",
    "        MERGE (d_fin:Drug {name: \"''' + d + '''\"}) MERGE (d_init)-[:INTERACTS_WITH]->(d_fin)''')"
   ]
  },
  {
   "cell_type": "markdown",
   "metadata": {},
   "source": [
    "#### ________ Failed Trials ________"
   ]
  },
  {
   "cell_type": "code",
   "execution_count": null,
   "metadata": {},
   "outputs": [],
   "source": [
    "# Create drug nodes\n",
    "drug_label = db.labels.create(\"Drug\").ipynb_checkpoints/\n",
    "query = '''CREATE (d:Drug {name: \"Initiated_label\"})'''\n",
    "db.query(query)\n",
    "query = '''CREATE CONSTRAINT ON (d:Drug) ASSERT d.name IS UNIQUE'''\n",
    "db.query(query)"
   ]
  },
  {
   "cell_type": "code",
   "execution_count": 126,
   "metadata": {},
   "outputs": [],
   "source": [
    "for drug in drugs_final:\n",
    "    url = \"https://www.everydayhealth.com/drugs/\" + drug.get(\"link\")\n",
    "    page = requests.get(url).text\n",
    "    interactions = []\n",
    "    soup = BeautifulSoup(page, 'html.parser')\n",
    "    drugs = soup.find('div', attrs={'id': 'interactions', 'class': 'col-xs-12 col-sm-12 col-md-9 col-md-offset-3 collapseable'})\n",
    "    if not drugs is None:\n",
    "        inter_list = drugs.find_all('li')\n",
    "        interactions = []\n",
    "        for inter in inter_list:\n",
    "            ll = inter.find('a')\n",
    "            if not ll is None:\n",
    "                interactions.append(ll.text.capitalize().split(\" \")[0])\n",
    "    drug['interactions'] = interactions"
   ]
  },
  {
   "cell_type": "code",
   "execution_count": 145,
   "metadata": {},
   "outputs": [],
   "source": [
    "for drug in drugs_final:\n",
    "    drug['interactions'] = list(set(drug['interactions']))"
   ]
  },
  {
   "cell_type": "code",
   "execution_count": 131,
   "metadata": {},
   "outputs": [],
   "source": [
    "from neo4jrestclient.client import GraphDatabase\n",
    "db = GraphDatabase(\"http://localhost:7474\", username=\"neo4j\", password=\"veryveryhardpassword1234\")"
   ]
  },
  {
   "cell_type": "code",
   "execution_count": null,
   "metadata": {},
   "outputs": [],
   "source": [
    "# Create drug nodes\n",
    "drug_label = db.labels.create(\"Drug\")\n",
    "query = '''CREATE (d:Drug {name: \"Initiated_label\"})'''\n",
    "db.query(query)\n",
    "query = '''CREATE CONSTRAINT ON (d:Drug) ASSERT d.name IS UNIQUE'''\n",
    "db.query(query)"
   ]
  },
  {
   "cell_type": "code",
   "execution_count": 153,
   "metadata": {},
   "outputs": [],
   "source": [
    "for drug in drugs_final:\n",
    "    #drug_label.add(d1)\n",
    "    db.query('''MERGE (:Drug {name: \"''' + drug['name'] + '''\"})''')"
   ]
  },
  {
   "cell_type": "code",
   "execution_count": null,
   "metadata": {},
   "outputs": [],
   "source": [
    "# Create interaction relationships\n",
    "for drug in drugs_final:\n",
    "    for d_interact in drug['interactions']:\n",
    "        query = '''MERGE (d:Drug {name:\"''' + drug['name'] + '''\"})-[:INTERACTS_WITH]->(:Drug {name:\"''' + d_interact + '''\"})'''\n",
    "        db.query(query)"
   ]
  },
  {
   "cell_type": "code",
   "execution_count": 289,
   "metadata": {},
   "outputs": [
    {
     "data": {
      "text/plain": [
       "True"
      ]
     },
     "execution_count": 289,
     "metadata": {},
     "output_type": "execute_result"
    }
   ],
   "source": [
    "r_code = requests.get(\"https://rxnav.nlm.nih.gov/REST/rxcui?name=paracetamol\")\n",
    "represents_int(str(r_code.content)[str(r_code.content).find(\"rxnormId\")+9:str(r_code.content).find(\"</rxnormId\")])"
   ]
  },
  {
   "cell_type": "code",
   "execution_count": 224,
   "metadata": {},
   "outputs": [],
   "source": [
    "r_interactions = requests.get(\"https://rxnav.nlm.nih.gov/REST/interaction/interaction.json?rxcui=214178\")"
   ]
  },
  {
   "cell_type": "code",
   "execution_count": 259,
   "metadata": {},
   "outputs": [
    {
     "name": "stdout",
     "output_type": "stream",
     "text": [
      "2\n"
     ]
    }
   ],
   "source": [
    "import json\n",
    "from pprint import pprint\n",
    "data = r_interactions.json()\n",
    "pprint(len(data[\"interactionTypeGroup\"][0]['interactionType']))"
   ]
  },
  {
   "cell_type": "code",
   "execution_count": 4,
   "metadata": {},
   "outputs": [],
   "source": [
    "def represents_int(s):\n",
    "    try: \n",
    "        int(s)\n",
    "        return True\n",
    "    except ValueError:\n",
    "        return False"
   ]
  },
  {
   "cell_type": "code",
   "execution_count": null,
   "metadata": {},
   "outputs": [],
   "source": [
    "pprint(list(set([x['interactionConcept'][1]['minConceptItem']['name'].capitalize() for L in data[\"interactionTypeGroup\"][0]['interactionType'] for x in L['interactionPair']])))"
   ]
  },
  {
   "cell_type": "code",
   "execution_count": null,
   "metadata": {},
   "outputs": [],
   "source": []
  }
 ],
 "metadata": {
  "kernelspec": {
   "display_name": "Python 3",
   "language": "python",
   "name": "python3"
  },
  "language_info": {
   "codemirror_mode": {
    "name": "ipython",
    "version": 3
   },
   "file_extension": ".py",
   "mimetype": "text/x-python",
   "name": "python",
   "nbconvert_exporter": "python",
   "pygments_lexer": "ipython3",
   "version": "3.7.1"
  }
 },
 "nbformat": 4,
 "nbformat_minor": 2
}
